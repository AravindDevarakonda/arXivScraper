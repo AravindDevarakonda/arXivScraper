{
 "cells": [
  {
   "cell_type": "code",
   "execution_count": 341,
   "metadata": {},
   "outputs": [],
   "source": [
    "import time as tm\n",
    "import numpy as np\n",
    "import urllib as ull\n",
    "from bs4 import BeautifulSoup\n",
    "from bs4 import SoupStrainer"
   ]
  },
  {
   "cell_type": "code",
   "execution_count": 355,
   "metadata": {},
   "outputs": [
    {
     "name": "stdout",
     "output_type": "stream",
     "text": [
      "92 283\n",
      "93 829\n",
      "94 1541\n",
      "95 2200\n",
      "96 2956\n",
      "97 3877\n",
      "98 5117\n",
      "99 6007\n",
      "00 6585\n",
      "01 7628\n",
      "02 8391\n",
      "03 9104\n",
      "04 9829\n",
      "05 10258\n",
      "06 10229\n",
      "07 10407\n",
      "08 11347\n",
      "09 11419\n",
      "10 13092\n",
      "11 13975\n",
      "12 14810\n",
      "13 15381\n",
      "14 15771\n",
      "15 16764\n",
      "16 17589\n",
      "17 17539\n",
      "18 13665\n"
     ]
    }
   ],
   "source": [
    "yrsAvailable = [str(k)[2:] for k in range(1992, 2019)]\n",
    "\n",
    "for yr in yrsAvailable:\n",
    "    tm.sleep(0.5)\n",
    "    arxiv ='https://arxiv.org/year/cond-mat/' + yr\n",
    "    \n",
    "    with ull.request.urlopen(arxiv) as arxivUll:\n",
    "        onlyP = SoupStrainer('p')\n",
    "        arxivSoup = BeautifulSoup(arxivUll, parse_only=onlyP)  \n",
    "        parsed = [\n",
    "            k.split(' ')[0] for k in arxivSoup.stripped_strings if 'articles' in k.split(' ') or 'cross-lists' in k.split(' ')] [1:]\n",
    "        \n",
    "    print(yr, int(parsed[0]) + int(parsed[1]))"
   ]
  },
  {
   "cell_type": "markdown",
   "metadata": {},
   "source": [
    "Over two decades, the number of Condensed Matter pre-prints posted to arXiv has ballooned by nearly a factor of 70!"
   ]
  },
  {
   "cell_type": "code",
   "execution_count": null,
   "metadata": {},
   "outputs": [],
   "source": []
  }
 ],
 "metadata": {
  "kernelspec": {
   "display_name": "Python 3",
   "language": "python",
   "name": "python3"
  },
  "language_info": {
   "codemirror_mode": {
    "name": "ipython",
    "version": 3
   },
   "file_extension": ".py",
   "mimetype": "text/x-python",
   "name": "python",
   "nbconvert_exporter": "python",
   "pygments_lexer": "ipython3",
   "version": "3.7.0"
  }
 },
 "nbformat": 4,
 "nbformat_minor": 2
}
