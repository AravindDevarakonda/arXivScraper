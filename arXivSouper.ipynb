{
 "cells": [
  {
   "cell_type": "code",
   "execution_count": 20,
   "metadata": {},
   "outputs": [],
   "source": [
    "import time as tm\n",
    "import numpy as np\n",
    "import urllib as ull\n",
    "import matplotlib.pyplot as plt\n",
    "from bs4 import BeautifulSoup\n",
    "from bs4 import SoupStrainer"
   ]
  },
  {
   "cell_type": "code",
   "execution_count": 13,
   "metadata": {},
   "outputs": [
    {
     "data": {
      "text/plain": [
       "[(1992, 283),\n",
       " (1993, 829),\n",
       " (1994, 1541),\n",
       " (1995, 2200),\n",
       " (1996, 2956),\n",
       " (1997, 3877),\n",
       " (1998, 5117),\n",
       " (1999, 6007),\n",
       " (2000, 6585),\n",
       " (2001, 7628),\n",
       " (2002, 8391),\n",
       " (2003, 9104),\n",
       " (2004, 9829),\n",
       " (2005, 10258),\n",
       " (2006, 10229),\n",
       " (2007, 10407),\n",
       " (2008, 11347),\n",
       " (2009, 11419),\n",
       " (2010, 13092),\n",
       " (2011, 13975),\n",
       " (2012, 14810),\n",
       " (2013, 15381),\n",
       " (2014, 15771),\n",
       " (2015, 16764),\n",
       " (2016, 17589),\n",
       " (2017, 17539),\n",
       " (2018, 13665)]"
      ]
     },
     "execution_count": 13,
     "metadata": {},
     "output_type": "execute_result"
    }
   ],
   "source": [
    "yrsAvailable = [str(k)[2:] for k in range(1992, 2019)]\n",
    "articleNum = []\n",
    "\n",
    "for yr in yrsAvailable:\n",
    "    tm.sleep(0.5)\n",
    "    arxiv ='https://arxiv.org/year/cond-mat/' + yr\n",
    "    \n",
    "    with ull.request.urlopen(arxiv) as arxivUll:\n",
    "        onlyP = SoupStrainer('p')\n",
    "        arxivSoup = BeautifulSoup(arxivUll, parse_only=onlyP)  \n",
    "        parsed = [\n",
    "            k.split(' ')[0] \n",
    "            for k in arxivSoup.stripped_strings \n",
    "            if 'articles' in k.split(' ') or 'cross-lists' in k.split(' ')] [1:]\n",
    "        \n",
    "    articleNum.append(int(parsed[0]) + int(parsed[1]))\n",
    "\n",
    "articleNum = list(zip(list(range(1992, 2019)), articleNum))\n",
    "print(articleNum)"
   ]
  },
  {
   "cell_type": "markdown",
   "metadata": {},
   "source": [
    "Over two decades, the number of Condensed Matter pre-prints posted to arXiv has ballooned by nearly a factor of 70! Now let's look at the full list for a particular list and try to get some information about the articles posted."
   ]
  },
  {
   "cell_type": "code",
   "execution_count": 7,
   "metadata": {},
   "outputs": [
    {
     "name": "stdout",
     "output_type": "stream",
     "text": [
      "Total number of articles:  256593\n"
     ]
    }
   ],
   "source": [
    "print('Total number of articles: ', sum(articleNum))"
   ]
  },
  {
   "cell_type": "markdown",
   "metadata": {},
   "source": [
    "That's a quarter million papers posted within the condensed matter sub-arXiv in the past 20 years!! Presumably we can do a lot with all of this information. "
   ]
  },
  {
   "cell_type": "code",
   "execution_count": 34,
   "metadata": {},
   "outputs": [
    {
     "data": {
      "image/png": "[encoded data removed]",
      "text/plain": [
       "<Figure size 432x288 with 1 Axes>"
      ]
     },
     "metadata": {
      "needs_background": "light"
     },
     "output_type": "display_data"
    }
   ],
   "source": [
    "_, ax1 = plt.subplots()\n",
    "ax1.plot(list(zip(*articleNum))[0], list(zip(*articleNum))[1], '--h')\n",
    "plt.show()"
   ]
  },
  {
   "cell_type": "code",
   "execution_count": null,
   "metadata": {},
   "outputs": [],
   "source": []
  }
 ],
 "metadata": {
  "kernelspec": {
   "display_name": "Python 3",
   "language": "python",
   "name": "python3"
  },
  "language_info": {
   "codemirror_mode": {
    "name": "ipython",
    "version": 3
   },
   "file_extension": ".py",
   "mimetype": "text/x-python",
   "name": "python",
   "nbconvert_exporter": "python",
   "pygments_lexer": "ipython3",
   "version": "3.7.0"
  }
 },
 "nbformat": 4,
 "nbformat_minor": 2
}
